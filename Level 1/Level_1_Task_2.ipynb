{
 "cells": [
  {
   "cell_type": "code",
   "execution_count": 1,
   "id": "f0077164",
   "metadata": {},
   "outputs": [],
   "source": [
    "import pandas as pd\n",
    "import matplotlib.pyplot as plt\n",
    "import seaborn as sns"
   ]
  },
  {
   "cell_type": "code",
   "execution_count": 2,
   "id": "0d56b616",
   "metadata": {},
   "outputs": [],
   "source": [
    "# Load the dataset\n",
    "df = pd.read_csv('Dataset .csv')"
   ]
  },
  {
   "cell_type": "code",
   "execution_count": 3,
   "id": "89da67d1",
   "metadata": {},
   "outputs": [
    {
     "name": "stdout",
     "output_type": "stream",
     "text": [
      "\n",
      "\n",
      "   Restaurant ID         Restaurant Name  Country Code              City  \\\n",
      "0        6317637        Le Petit Souffle           162       Makati City   \n",
      "1        6304287        Izakaya Kikufuji           162       Makati City   \n",
      "2        6300002  Heat - Edsa Shangri-La           162  Mandaluyong City   \n",
      "3        6318506                    Ooma           162  Mandaluyong City   \n",
      "4        6314302             Sambo Kojin           162  Mandaluyong City   \n",
      "\n",
      "                                             Address  \\\n",
      "0  Third Floor, Century City Mall, Kalayaan Avenu...   \n",
      "1  Little Tokyo, 2277 Chino Roces Avenue, Legaspi...   \n",
      "2  Edsa Shangri-La, 1 Garden Way, Ortigas, Mandal...   \n",
      "3  Third Floor, Mega Fashion Hall, SM Megamall, O...   \n",
      "4  Third Floor, Mega Atrium, SM Megamall, Ortigas...   \n",
      "\n",
      "                                     Locality  \\\n",
      "0   Century City Mall, Poblacion, Makati City   \n",
      "1  Little Tokyo, Legaspi Village, Makati City   \n",
      "2  Edsa Shangri-La, Ortigas, Mandaluyong City   \n",
      "3      SM Megamall, Ortigas, Mandaluyong City   \n",
      "4      SM Megamall, Ortigas, Mandaluyong City   \n",
      "\n",
      "                                    Locality Verbose   Longitude   Latitude  \\\n",
      "0  Century City Mall, Poblacion, Makati City, Mak...  121.027535  14.565443   \n",
      "1  Little Tokyo, Legaspi Village, Makati City, Ma...  121.014101  14.553708   \n",
      "2  Edsa Shangri-La, Ortigas, Mandaluyong City, Ma...  121.056831  14.581404   \n",
      "3  SM Megamall, Ortigas, Mandaluyong City, Mandal...  121.056475  14.585318   \n",
      "4  SM Megamall, Ortigas, Mandaluyong City, Mandal...  121.057508  14.584450   \n",
      "\n",
      "                           Cuisines  ...          Currency Has Table booking  \\\n",
      "0        French, Japanese, Desserts  ...  Botswana Pula(P)               Yes   \n",
      "1                          Japanese  ...  Botswana Pula(P)               Yes   \n",
      "2  Seafood, Asian, Filipino, Indian  ...  Botswana Pula(P)               Yes   \n",
      "3                   Japanese, Sushi  ...  Botswana Pula(P)                No   \n",
      "4                  Japanese, Korean  ...  Botswana Pula(P)               Yes   \n",
      "\n",
      "  Has Online delivery Is delivering now Switch to order menu Price range  \\\n",
      "0                  No                No                   No           3   \n",
      "1                  No                No                   No           3   \n",
      "2                  No                No                   No           4   \n",
      "3                  No                No                   No           4   \n",
      "4                  No                No                   No           4   \n",
      "\n",
      "   Aggregate rating  Rating color Rating text Votes  \n",
      "0               4.8    Dark Green   Excellent   314  \n",
      "1               4.5    Dark Green   Excellent   591  \n",
      "2               4.4         Green   Very Good   270  \n",
      "3               4.9    Dark Green   Excellent   365  \n",
      "4               4.8    Dark Green   Excellent   229  \n",
      "\n",
      "[5 rows x 21 columns]\n"
     ]
    }
   ],
   "source": [
    "# Display the first few rows of the dataset\n",
    "print(\"\\n\")\n",
    "print(df.head())"
   ]
  },
  {
   "cell_type": "code",
   "execution_count": 4,
   "id": "df29494f",
   "metadata": {},
   "outputs": [
    {
     "name": "stdout",
     "output_type": "stream",
     "text": [
      "\n",
      "\n",
      "Basic Statistics for Numerical Columns:\n",
      "       Restaurant ID  Country Code    Longitude     Latitude  \\\n",
      "count   9.551000e+03   9551.000000  9551.000000  9551.000000   \n",
      "mean    9.051128e+06     18.365616    64.126574    25.854381   \n",
      "std     8.791521e+06     56.750546    41.467058    11.007935   \n",
      "min     5.300000e+01      1.000000  -157.948486   -41.330428   \n",
      "25%     3.019625e+05      1.000000    77.081343    28.478713   \n",
      "50%     6.004089e+06      1.000000    77.191964    28.570469   \n",
      "75%     1.835229e+07      1.000000    77.282006    28.642758   \n",
      "max     1.850065e+07    216.000000   174.832089    55.976980   \n",
      "\n",
      "       Average Cost for two  Price range  Aggregate rating         Votes  \n",
      "count           9551.000000  9551.000000       9551.000000   9551.000000  \n",
      "mean            1199.210763     1.804837          2.666370    156.909748  \n",
      "std            16121.183073     0.905609          1.516378    430.169145  \n",
      "min                0.000000     1.000000          0.000000      0.000000  \n",
      "25%              250.000000     1.000000          2.500000      5.000000  \n",
      "50%              400.000000     2.000000          3.200000     31.000000  \n",
      "75%              700.000000     2.000000          3.700000    131.000000  \n",
      "max           800000.000000     4.000000          4.900000  10934.000000  \n"
     ]
    }
   ],
   "source": [
    "# Basic statistics for numerical columns\n",
    "numerical_stats = df.describe()\n",
    "print(\"\\n\")\n",
    "print(\"Basic Statistics for Numerical Columns:\")\n",
    "print(numerical_stats)"
   ]
  },
  {
   "cell_type": "code",
   "execution_count": 5,
   "id": "5bf6ae3b",
   "metadata": {},
   "outputs": [
    {
     "name": "stdout",
     "output_type": "stream",
     "text": [
      "\n",
      "\n",
      "\n",
      "Distribution of Country Code:\n",
      "Country Code\n",
      "1      8652\n",
      "216     434\n",
      "215      80\n",
      "30       60\n",
      "214      60\n",
      "189      60\n",
      "148      40\n",
      "208      34\n",
      "14       24\n",
      "162      22\n",
      "94       21\n",
      "184      20\n",
      "166      20\n",
      "191      20\n",
      "37        4\n",
      "Name: count, dtype: int64\n",
      "\n",
      "\n",
      "\n",
      "Distribution of City:\n",
      "City\n",
      "New Delhi           5473\n",
      "Gurgaon             1118\n",
      "Noida               1080\n",
      "Faridabad            251\n",
      "Ghaziabad             25\n",
      "                    ... \n",
      "Panchkula              1\n",
      "Mc Millan              1\n",
      "Mayfield               1\n",
      "Macedon                1\n",
      "Vineland Station       1\n",
      "Name: count, Length: 141, dtype: int64\n",
      "\n",
      "\n",
      "\n",
      "Distribution of Cuisines:\n",
      "Cuisines\n",
      "North Indian                                             936\n",
      "North Indian, Chinese                                    511\n",
      "Chinese                                                  354\n",
      "Fast Food                                                354\n",
      "North Indian, Mughlai                                    334\n",
      "                                                        ... \n",
      "Bengali, Fast Food                                         1\n",
      "North Indian, Rajasthani, Asian                            1\n",
      "Chinese, Thai, Malaysian, Indonesian                       1\n",
      "Bakery, Desserts, North Indian, Bengali, South Indian      1\n",
      "Italian, World Cuisine                                     1\n",
      "Name: count, Length: 1825, dtype: int64\n"
     ]
    }
   ],
   "source": [
    "# Explore the distribution of categorical variables\n",
    "country_distribution = df['Country Code'].value_counts()\n",
    "city_distribution = df['City'].value_counts()\n",
    "cuisines_distribution = df['Cuisines'].value_counts()\n",
    "\n",
    "print(\"\\n\")\n",
    "print(\"\\nDistribution of Country Code:\")\n",
    "print(country_distribution)\n",
    "\n",
    "print(\"\\n\")\n",
    "print(\"\\nDistribution of City:\")\n",
    "print(city_distribution)\n",
    "\n",
    "print(\"\\n\")\n",
    "print(\"\\nDistribution of Cuisines:\")\n",
    "print(cuisines_distribution)"
   ]
  },
  {
   "cell_type": "code",
   "execution_count": 6,
   "id": "6832668f",
   "metadata": {},
   "outputs": [
    {
     "name": "stdout",
     "output_type": "stream",
     "text": [
      "\n",
      "\n",
      "\n",
      "Top 10 Cuisines:\n",
      "Cuisines\n",
      "North Indian                      936\n",
      "North Indian, Chinese             511\n",
      "Chinese                           354\n",
      "Fast Food                         354\n",
      "North Indian, Mughlai             334\n",
      "Cafe                              299\n",
      "Bakery                            218\n",
      "North Indian, Mughlai, Chinese    197\n",
      "Bakery, Desserts                  170\n",
      "Street Food                       149\n",
      "Name: count, dtype: int64\n"
     ]
    }
   ],
   "source": [
    "# Identify top cuisines and cities with the highest number of restaurants\n",
    "top_cuisines = df['Cuisines'].value_counts().head(10)\n",
    "top_cities = df['City'].value_counts().head(10)\n",
    "\n",
    "print(\"\\n\")\n",
    "print(\"\\nTop 10 Cuisines:\")\n",
    "print(top_cuisines)\n"
   ]
  },
  {
   "cell_type": "code",
   "execution_count": null,
   "id": "55df014b",
   "metadata": {},
   "outputs": [],
   "source": []
  }
 ],
 "metadata": {
  "kernelspec": {
   "display_name": "Python 3 (ipykernel)",
   "language": "python",
   "name": "python3"
  },
  "language_info": {
   "codemirror_mode": {
    "name": "ipython",
    "version": 3
   },
   "file_extension": ".py",
   "mimetype": "text/x-python",
   "name": "python",
   "nbconvert_exporter": "python",
   "pygments_lexer": "ipython3",
   "version": "3.11.5"
  }
 },
 "nbformat": 4,
 "nbformat_minor": 5
}
