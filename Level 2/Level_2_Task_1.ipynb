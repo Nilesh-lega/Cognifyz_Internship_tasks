{
 "cells": [
  {
   "cell_type": "code",
   "execution_count": 9,
   "id": "da330ef5",
   "metadata": {},
   "outputs": [],
   "source": [
    "import pandas as pd\n",
    "import seaborn as sns\n",
    "import matplotlib.pyplot as plt\n",
    "import matplotlib.pyplot as plt\n"
   ]
  },
  {
   "cell_type": "code",
   "execution_count": 2,
   "id": "ac0c7e35",
   "metadata": {},
   "outputs": [],
   "source": [
    "# Load the dataset\n",
    "df = pd.read_csv('Dataset .csv')"
   ]
  },
  {
   "cell_type": "code",
   "execution_count": 3,
   "id": "7d736887",
   "metadata": {},
   "outputs": [
    {
     "name": "stdout",
     "output_type": "stream",
     "text": [
      "   Restaurant ID         Restaurant Name  Country Code              City  \\\n",
      "0        6317637        Le Petit Souffle           162       Makati City   \n",
      "1        6304287        Izakaya Kikufuji           162       Makati City   \n",
      "2        6300002  Heat - Edsa Shangri-La           162  Mandaluyong City   \n",
      "3        6318506                    Ooma           162  Mandaluyong City   \n",
      "4        6314302             Sambo Kojin           162  Mandaluyong City   \n",
      "\n",
      "                                             Address  \\\n",
      "0  Third Floor, Century City Mall, Kalayaan Avenu...   \n",
      "1  Little Tokyo, 2277 Chino Roces Avenue, Legaspi...   \n",
      "2  Edsa Shangri-La, 1 Garden Way, Ortigas, Mandal...   \n",
      "3  Third Floor, Mega Fashion Hall, SM Megamall, O...   \n",
      "4  Third Floor, Mega Atrium, SM Megamall, Ortigas...   \n",
      "\n",
      "                                     Locality  \\\n",
      "0   Century City Mall, Poblacion, Makati City   \n",
      "1  Little Tokyo, Legaspi Village, Makati City   \n",
      "2  Edsa Shangri-La, Ortigas, Mandaluyong City   \n",
      "3      SM Megamall, Ortigas, Mandaluyong City   \n",
      "4      SM Megamall, Ortigas, Mandaluyong City   \n",
      "\n",
      "                                    Locality Verbose   Longitude   Latitude  \\\n",
      "0  Century City Mall, Poblacion, Makati City, Mak...  121.027535  14.565443   \n",
      "1  Little Tokyo, Legaspi Village, Makati City, Ma...  121.014101  14.553708   \n",
      "2  Edsa Shangri-La, Ortigas, Mandaluyong City, Ma...  121.056831  14.581404   \n",
      "3  SM Megamall, Ortigas, Mandaluyong City, Mandal...  121.056475  14.585318   \n",
      "4  SM Megamall, Ortigas, Mandaluyong City, Mandal...  121.057508  14.584450   \n",
      "\n",
      "                           Cuisines  ...          Currency Has Table booking  \\\n",
      "0        French, Japanese, Desserts  ...  Botswana Pula(P)               Yes   \n",
      "1                          Japanese  ...  Botswana Pula(P)               Yes   \n",
      "2  Seafood, Asian, Filipino, Indian  ...  Botswana Pula(P)               Yes   \n",
      "3                   Japanese, Sushi  ...  Botswana Pula(P)                No   \n",
      "4                  Japanese, Korean  ...  Botswana Pula(P)               Yes   \n",
      "\n",
      "  Has Online delivery Is delivering now Switch to order menu Price range  \\\n",
      "0                  No                No                   No           3   \n",
      "1                  No                No                   No           3   \n",
      "2                  No                No                   No           4   \n",
      "3                  No                No                   No           4   \n",
      "4                  No                No                   No           4   \n",
      "\n",
      "   Aggregate rating  Rating color Rating text Votes  \n",
      "0               4.8    Dark Green   Excellent   314  \n",
      "1               4.5    Dark Green   Excellent   591  \n",
      "2               4.4         Green   Very Good   270  \n",
      "3               4.9    Dark Green   Excellent   365  \n",
      "4               4.8    Dark Green   Excellent   229  \n",
      "\n",
      "[5 rows x 21 columns]\n"
     ]
    }
   ],
   "source": [
    "# Display the first few rows of the dataset\n",
    "print(df.head())"
   ]
  },
  {
   "cell_type": "code",
   "execution_count": 4,
   "id": "bab6a838",
   "metadata": {},
   "outputs": [],
   "source": [
    "# Convert 'Yes' to 1 and 'No' to 0 in 'Has Table booking' and 'Has Online delivery' columns\n",
    "df['Has Table booking'] = df['Has Table booking'].map({'Yes': 1, 'No': 0})\n",
    "df['Has Online delivery'] = df['Has Online delivery'].map({'Yes': 1, 'No': 0})"
   ]
  },
  {
   "cell_type": "code",
   "execution_count": 5,
   "id": "224d7749",
   "metadata": {},
   "outputs": [
    {
     "name": "stdout",
     "output_type": "stream",
     "text": [
      "Percentage of Restaurants with Table Booking: 12.12%\n",
      "Percentage of Restaurants with Online Delivery: 25.66%\n"
     ]
    }
   ],
   "source": [
    "# Determine the percentage of restaurants that offer table booking and online delivery\n",
    "table_booking_percentage = (df['Has Table booking'].sum() / len(df)) * 100\n",
    "online_delivery_percentage = (df['Has Online delivery'].sum() / len(df)) * 100\n",
    "\n",
    "print(f\"Percentage of Restaurants with Table Booking: {table_booking_percentage:.2f}%\")\n",
    "print(f\"Percentage of Restaurants with Online Delivery: {online_delivery_percentage:.2f}%\")"
   ]
  },
  {
   "cell_type": "code",
   "execution_count": 6,
   "id": "df28bb09",
   "metadata": {},
   "outputs": [
    {
     "name": "stdout",
     "output_type": "stream",
     "text": [
      "Average Rating for Restaurants with Table Booking: 3.44\n",
      "Average Rating for Restaurants without Table Booking: 2.56\n"
     ]
    }
   ],
   "source": [
    "# Compare the average ratings of restaurants with table booking and those without\n",
    "avg_rating_with_table_booking = df[df['Has Table booking'] == 1]['Aggregate rating'].mean()\n",
    "avg_rating_without_table_booking = df[df['Has Table booking'] == 0]['Aggregate rating'].mean()\n",
    "\n",
    "print(f\"Average Rating for Restaurants with Table Booking: {avg_rating_with_table_booking:.2f}\")\n",
    "print(f\"Average Rating for Restaurants without Table Booking: {avg_rating_without_table_booking:.2f}\")"
   ]
  },
  {
   "cell_type": "code",
   "execution_count": 10,
   "id": "5323656d",
   "metadata": {},
   "outputs": [
    {
     "data": {
      "image/png": "[encoded data removed]",
      "text/plain": [
       "<Figure size 1000x600 with 1 Axes>"
      ]
     },
     "metadata": {},
     "output_type": "display_data"
    },
    {
     "name": "stdout",
     "output_type": "stream",
     "text": [
      "************************************************************************\n"
     ]
    }
   ],
   "source": [
    "# Analyze the availability of online delivery among restaurants with different price ranges\n",
    "plt.figure(figsize=(10, 6))\n",
    "sns.boxplot(x='Price range', y='Has Online delivery', data=df, hue='Price range', palette='Set3', dodge=False)\n",
    "plt.title('Availability of Online Delivery Across Different Price Ranges')\n",
    "plt.xlabel('Price Range')\n",
    "plt.ylabel('Online Delivery Availability (1: Yes, 0: No)')\n",
    "plt.legend(title='Price Range', loc='upper left')\n",
    "plt.show()\n",
    "\n",
    "print(\"************************************************************************\")"
   ]
  },
  {
   "cell_type": "code",
   "execution_count": 11,
   "id": "b6c841f6",
   "metadata": {},
   "outputs": [],
   "source": [
    "# Availability of online delivery among restaurants with different price ranges\n",
    "# Select price ranges\n",
    "price_ranges = df['Average Cost for two'].apply(lambda x: 'Low' if x < 500 else 'Medium' if 500 <= x <= 1000 else 'High')\n",
    "online_delivery_by_price_range = df.groupby(price_ranges)['Has Online delivery'].value_counts(normalize=True).unstack()\n"
   ]
  },
  {
   "cell_type": "code",
   "execution_count": 12,
   "id": "287c9b06",
   "metadata": {},
   "outputs": [
    {
     "name": "stdout",
     "output_type": "stream",
     "text": [
      "Online Delivery Availability by Price Range:\n",
      "Has Online delivery          0         1\n",
      "Average Cost for two                    \n",
      "High                  0.719149  0.280851\n",
      "Low                   0.858523  0.141477\n",
      "Medium                0.566209  0.433791\n"
     ]
    }
   ],
   "source": [
    "# Display results\n",
    "print(\"Online Delivery Availability by Price Range:\")\n",
    "print(online_delivery_by_price_range)"
   ]
  },
  {
   "cell_type": "code",
   "execution_count": null,
   "id": "14a9ff37",
   "metadata": {},
   "outputs": [],
   "source": []
  }
 ],
 "metadata": {
  "kernelspec": {
   "display_name": "Python 3 (ipykernel)",
   "language": "python",
   "name": "python3"
  },
  "language_info": {
   "codemirror_mode": {
    "name": "ipython",
    "version": 3
   },
   "file_extension": ".py",
   "mimetype": "text/x-python",
   "name": "python",
   "nbconvert_exporter": "python",
   "pygments_lexer": "ipython3",
   "version": "3.11.5"
  }
 },
 "nbformat": 4,
 "nbformat_minor": 5
}
