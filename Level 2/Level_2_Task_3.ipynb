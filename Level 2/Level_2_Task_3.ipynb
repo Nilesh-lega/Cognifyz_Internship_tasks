{
 "cells": [
  {
   "cell_type": "code",
   "execution_count": 1,
   "id": "01c29dc4",
   "metadata": {},
   "outputs": [],
   "source": [
    "import pandas as pd\n",
    "import seaborn as sns\n",
    "import numpy as np\n",
    "import matplotlib.pyplot as plt"
   ]
  },
  {
   "cell_type": "code",
   "execution_count": 2,
   "id": "c49ff1f6",
   "metadata": {},
   "outputs": [],
   "source": [
    "# Load the dataset\n",
    "df = pd.read_csv('Dataset .csv')"
   ]
  },
  {
   "cell_type": "code",
   "execution_count": 3,
   "id": "e3013557",
   "metadata": {},
   "outputs": [],
   "source": [
    "# Extracting additional features from the existing columns, such as the length of the restaurant name or address\n",
    "df['Restaurant Name Length'] = df['Restaurant Name'].apply(len)\n"
   ]
  },
  {
   "cell_type": "code",
   "execution_count": 4,
   "id": "d35b5098",
   "metadata": {},
   "outputs": [],
   "source": [
    "# Create a new column for the length of restaurant addresses\n",
    "df['Address Length'] = df['Address'].apply(len)"
   ]
  },
  {
   "cell_type": "code",
   "execution_count": 5,
   "id": "d69f2777",
   "metadata": {},
   "outputs": [
    {
     "name": "stdout",
     "output_type": "stream",
     "text": [
      "   Restaurant ID         Restaurant Name  Country Code              City  \\\n",
      "0        6317637        Le Petit Souffle           162       Makati City   \n",
      "1        6304287        Izakaya Kikufuji           162       Makati City   \n",
      "2        6300002  Heat - Edsa Shangri-La           162  Mandaluyong City   \n",
      "3        6318506                    Ooma           162  Mandaluyong City   \n",
      "4        6314302             Sambo Kojin           162  Mandaluyong City   \n",
      "\n",
      "                                             Address  \\\n",
      "0  Third Floor, Century City Mall, Kalayaan Avenu...   \n",
      "1  Little Tokyo, 2277 Chino Roces Avenue, Legaspi...   \n",
      "2  Edsa Shangri-La, 1 Garden Way, Ortigas, Mandal...   \n",
      "3  Third Floor, Mega Fashion Hall, SM Megamall, O...   \n",
      "4  Third Floor, Mega Atrium, SM Megamall, Ortigas...   \n",
      "\n",
      "                                     Locality  \\\n",
      "0   Century City Mall, Poblacion, Makati City   \n",
      "1  Little Tokyo, Legaspi Village, Makati City   \n",
      "2  Edsa Shangri-La, Ortigas, Mandaluyong City   \n",
      "3      SM Megamall, Ortigas, Mandaluyong City   \n",
      "4      SM Megamall, Ortigas, Mandaluyong City   \n",
      "\n",
      "                                    Locality Verbose   Longitude   Latitude  \\\n",
      "0  Century City Mall, Poblacion, Makati City, Mak...  121.027535  14.565443   \n",
      "1  Little Tokyo, Legaspi Village, Makati City, Ma...  121.014101  14.553708   \n",
      "2  Edsa Shangri-La, Ortigas, Mandaluyong City, Ma...  121.056831  14.581404   \n",
      "3  SM Megamall, Ortigas, Mandaluyong City, Mandal...  121.056475  14.585318   \n",
      "4  SM Megamall, Ortigas, Mandaluyong City, Mandal...  121.057508  14.584450   \n",
      "\n",
      "                           Cuisines  ...  Has Online delivery  \\\n",
      "0        French, Japanese, Desserts  ...                   No   \n",
      "1                          Japanese  ...                   No   \n",
      "2  Seafood, Asian, Filipino, Indian  ...                   No   \n",
      "3                   Japanese, Sushi  ...                   No   \n",
      "4                  Japanese, Korean  ...                   No   \n",
      "\n",
      "  Is delivering now Switch to order menu Price range Aggregate rating  \\\n",
      "0                No                   No           3              4.8   \n",
      "1                No                   No           3              4.5   \n",
      "2                No                   No           4              4.4   \n",
      "3                No                   No           4              4.9   \n",
      "4                No                   No           4              4.8   \n",
      "\n",
      "  Rating color  Rating text  Votes Restaurant Name Length Address Length  \n",
      "0   Dark Green    Excellent    314                     16             71  \n",
      "1   Dark Green    Excellent    591                     16             67  \n",
      "2        Green    Very Good    270                     22             56  \n",
      "3   Dark Green    Excellent    365                      4             70  \n",
      "4   Dark Green    Excellent    229                     11             64  \n",
      "\n",
      "[5 rows x 23 columns]\n"
     ]
    }
   ],
   "source": [
    "# Display the updated DataFrame\n",
    "print(df.head())"
   ]
  },
  {
   "cell_type": "code",
   "execution_count": 6,
   "id": "c8a970c6",
   "metadata": {},
   "outputs": [],
   "source": [
    "# Creating new features like \"Has Table Booking\" or \"Has Online Delivery\" by encoding categorical variables\n",
    "df['Has Table Booking'] = np.where(df['Has Table booking'] == 'Yes', 1, 0)\n",
    "df['Has Online Delivery'] = np.where(df['Has Online delivery'] == 'Yes', 1, 0)"
   ]
  },
  {
   "cell_type": "code",
   "execution_count": 7,
   "id": "8dd29f3b",
   "metadata": {},
   "outputs": [
    {
     "name": "stdout",
     "output_type": "stream",
     "text": [
      "   Restaurant ID         Restaurant Name  Country Code              City  \\\n",
      "0        6317637        Le Petit Souffle           162       Makati City   \n",
      "1        6304287        Izakaya Kikufuji           162       Makati City   \n",
      "2        6300002  Heat - Edsa Shangri-La           162  Mandaluyong City   \n",
      "3        6318506                    Ooma           162  Mandaluyong City   \n",
      "4        6314302             Sambo Kojin           162  Mandaluyong City   \n",
      "\n",
      "                                             Address  \\\n",
      "0  Third Floor, Century City Mall, Kalayaan Avenu...   \n",
      "1  Little Tokyo, 2277 Chino Roces Avenue, Legaspi...   \n",
      "2  Edsa Shangri-La, 1 Garden Way, Ortigas, Mandal...   \n",
      "3  Third Floor, Mega Fashion Hall, SM Megamall, O...   \n",
      "4  Third Floor, Mega Atrium, SM Megamall, Ortigas...   \n",
      "\n",
      "                                     Locality  \\\n",
      "0   Century City Mall, Poblacion, Makati City   \n",
      "1  Little Tokyo, Legaspi Village, Makati City   \n",
      "2  Edsa Shangri-La, Ortigas, Mandaluyong City   \n",
      "3      SM Megamall, Ortigas, Mandaluyong City   \n",
      "4      SM Megamall, Ortigas, Mandaluyong City   \n",
      "\n",
      "                                    Locality Verbose   Longitude   Latitude  \\\n",
      "0  Century City Mall, Poblacion, Makati City, Mak...  121.027535  14.565443   \n",
      "1  Little Tokyo, Legaspi Village, Makati City, Ma...  121.014101  14.553708   \n",
      "2  Edsa Shangri-La, Ortigas, Mandaluyong City, Ma...  121.056831  14.581404   \n",
      "3  SM Megamall, Ortigas, Mandaluyong City, Mandal...  121.056475  14.585318   \n",
      "4  SM Megamall, Ortigas, Mandaluyong City, Mandal...  121.057508  14.584450   \n",
      "\n",
      "                           Cuisines  ...  Switch to order menu Price range  \\\n",
      "0        French, Japanese, Desserts  ...                    No           3   \n",
      "1                          Japanese  ...                    No           3   \n",
      "2  Seafood, Asian, Filipino, Indian  ...                    No           4   \n",
      "3                   Japanese, Sushi  ...                    No           4   \n",
      "4                  Japanese, Korean  ...                    No           4   \n",
      "\n",
      "  Aggregate rating Rating color Rating text Votes  Restaurant Name Length  \\\n",
      "0              4.8   Dark Green   Excellent   314                      16   \n",
      "1              4.5   Dark Green   Excellent   591                      16   \n",
      "2              4.4        Green   Very Good   270                      22   \n",
      "3              4.9   Dark Green   Excellent   365                       4   \n",
      "4              4.8   Dark Green   Excellent   229                      11   \n",
      "\n",
      "   Address Length Has Table Booking Has Online Delivery  \n",
      "0              71                 1                   0  \n",
      "1              67                 1                   0  \n",
      "2              56                 1                   0  \n",
      "3              70                 0                   0  \n",
      "4              64                 1                   0  \n",
      "\n",
      "[5 rows x 25 columns]\n"
     ]
    }
   ],
   "source": [
    "# Display the updated DataFrame\n",
    "print(df.head())"
   ]
  },
  {
   "cell_type": "code",
   "execution_count": null,
   "id": "8c895fa1",
   "metadata": {},
   "outputs": [],
   "source": []
  }
 ],
 "metadata": {
  "kernelspec": {
   "display_name": "Python 3 (ipykernel)",
   "language": "python",
   "name": "python3"
  },
  "language_info": {
   "codemirror_mode": {
    "name": "ipython",
    "version": 3
   },
   "file_extension": ".py",
   "mimetype": "text/x-python",
   "name": "python",
   "nbconvert_exporter": "python",
   "pygments_lexer": "ipython3",
   "version": "3.11.5"
  }
 },
 "nbformat": 4,
 "nbformat_minor": 5
}
